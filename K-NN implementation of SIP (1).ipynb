{
 "cells": [
  {
   "cell_type": "code",
   "execution_count": 1,
   "id": "72a5adc5",
   "metadata": {},
   "outputs": [],
   "source": [
    "import numpy as np\n",
    "import matplotlib.pyplot as plt\n",
    "import pandas as pd"
   ]
  },
  {
   "cell_type": "code",
   "execution_count": 2,
   "id": "be080160",
   "metadata": {},
   "outputs": [],
   "source": [
    "dataset = pd.read_csv('Plant_Parameters.csv')\n",
    "x = dataset.iloc[:, :-1].values\n",
    "y = dataset.iloc[:, -1].values"
   ]
  },
  {
   "cell_type": "code",
   "execution_count": 4,
   "id": "eb20adda",
   "metadata": {},
   "outputs": [],
   "source": [
    "from sklearn.model_selection import train_test_split\n",
    "X_train, X_test, y_train, y_test = train_test_split(x, y, test_size = 0.25,random_state= 0)"
   ]
  },
  {
   "cell_type": "code",
   "execution_count": 5,
   "id": "9ce7f80d",
   "metadata": {},
   "outputs": [
    {
     "name": "stdout",
     "output_type": "stream",
     "text": [
      "[[ 6.61717569  0.42800936 15.48571785 ... 23.50794506 73.94517959\n",
      "  50.23901061]\n",
      " [ 5.74666107  0.26322593 28.50492466 ... 33.1689394  73.82514768\n",
      "  78.34881358]\n",
      " [ 6.47666055  0.41645736 15.90568379 ... 22.87891646 78.38523164\n",
      "  70.27881671]\n",
      " ...\n",
      " [ 5.54621167  0.85150998 20.82597872 ... 39.80452494 64.04249582\n",
      "  84.53556063]\n",
      " [ 6.21027537  1.0925606  37.91191252 ... 39.4611254  68.22939893\n",
      "  70.36206651]\n",
      " [ 5.97752148  0.53735999 10.27954915 ... 25.52219306 77.52955221\n",
      "  66.08923181]]\n"
     ]
    }
   ],
   "source": [
    "print(X_train)"
   ]
  },
  {
   "cell_type": "code",
   "execution_count": 6,
   "id": "feb608f2",
   "metadata": {},
   "outputs": [
    {
     "name": "stdout",
     "output_type": "stream",
     "text": [
      "['Carrots' 'Rice' 'Carrots' ... 'Eggplant' 'Eggplant' 'Strawberries']\n"
     ]
    }
   ],
   "source": [
    "print(y_train)"
   ]
  },
  {
   "cell_type": "code",
   "execution_count": 7,
   "id": "62f227e6",
   "metadata": {},
   "outputs": [
    {
     "name": "stdout",
     "output_type": "stream",
     "text": [
      "[[ 6.0079384   0.20406    13.97153796 ... 21.67582638 70.93370353\n",
      "  69.13277668]\n",
      " [ 6.32605311  0.66377913 13.27437868 ... 23.06283705 79.64218079\n",
      "  66.57544555]\n",
      " [ 5.99666363  0.33245715 23.78540073 ... 28.0182059  79.30027725\n",
      "  81.85132057]\n",
      " ...\n",
      " [ 6.20569491  1.92961042 28.05618246 ... 47.01638078 70.09673022\n",
      "  77.30697856]\n",
      " [ 6.07628302  0.21989782 20.1538831  ... 38.31630956 67.1700534\n",
      "  57.90583914]\n",
      " [ 6.71439508  0.82523946 29.28276393 ... 35.08687938 66.72371874\n",
      "  77.19481959]]\n"
     ]
    }
   ],
   "source": [
    "print(X_test)"
   ]
  },
  {
   "cell_type": "code",
   "execution_count": 8,
   "id": "7f2fdd20",
   "metadata": {},
   "outputs": [
    {
     "name": "stdout",
     "output_type": "stream",
     "text": [
      "['Carrots' 'Strawberries' 'Rice' ... 'Tomato' 'Corn' 'Chili']\n"
     ]
    }
   ],
   "source": [
    "print(y_test)"
   ]
  },
  {
   "cell_type": "code",
   "execution_count": 9,
   "id": "7ed6a351",
   "metadata": {},
   "outputs": [],
   "source": [
    "from sklearn.preprocessing import StandardScaler\n",
    "sc = StandardScaler()\n",
    "X_train = sc.fit_transform(X_train)\n",
    "X_test = sc.transform(X_test)"
   ]
  },
  {
   "cell_type": "code",
   "execution_count": 53,
   "id": "bb8dbf86",
   "metadata": {},
   "outputs": [
    {
     "name": "stdout",
     "output_type": "stream",
     "text": [
      "[[ 0.08366582  1.02526354  0.29600528 ... -1.1158681  -0.95305632\n",
      "   0.80024769]\n",
      " [ 0.80497522 -0.5474519   0.41511197 ... -0.10858964 -0.78456759\n",
      "   0.2750721 ]\n",
      " [ 1.57880213  0.12103373  1.25793015 ... -0.68252425 -0.25318088\n",
      "   0.78982754]\n",
      " ...\n",
      " [-1.80449389  0.33587875 -0.30250088 ...  1.48691244 -0.57105181\n",
      "   1.34120928]\n",
      " [-0.24033442  0.90800064  1.64662316 ...  1.43480642 -0.03635615\n",
      "  -0.2440798 ]\n",
      " [-0.78857129 -0.40974095 -1.50561332 ... -0.68022911  1.15133591\n",
      "  -0.72199147]]\n"
     ]
    }
   ],
   "source": [
    "print(X_train)"
   ]
  },
  {
   "cell_type": "code",
   "execution_count": 10,
   "id": "3762c932",
   "metadata": {},
   "outputs": [
    {
     "data": {
      "text/plain": [
       "KNeighborsClassifier()"
      ]
     },
     "execution_count": 10,
     "metadata": {},
     "output_type": "execute_result"
    }
   ],
   "source": [
    "from sklearn.neighbors import KNeighborsClassifier\n",
    "classifier = KNeighborsClassifier(n_neighbors = 5, metric = 'minkowski', p = 2)\n",
    "classifier.fit(X_train, y_train)"
   ]
  },
  {
   "cell_type": "code",
   "execution_count": 11,
   "id": "eb76568f",
   "metadata": {},
   "outputs": [
    {
     "name": "stdout",
     "output_type": "stream",
     "text": [
      "[['Carrots' 'Carrots']\n",
      " ['Strawberries' 'Strawberries']\n",
      " ['Rice' 'Rice']\n",
      " ...\n",
      " ['Tomato' 'Tomato']\n",
      " ['Corn' 'Corn']\n",
      " ['Chili' 'Chili']]\n"
     ]
    }
   ],
   "source": [
    "y_pred = classifier.predict(X_test)\n",
    "print(np.concatenate((y_pred.reshape(len(y_pred),1), y_test.reshape(len(y_test),1)),1))"
   ]
  },
  {
   "cell_type": "code",
   "execution_count": 12,
   "id": "fa65553c",
   "metadata": {},
   "outputs": [
    {
     "name": "stdout",
     "output_type": "stream",
     "text": [
      "['Strawberries']\n"
     ]
    }
   ],
   "source": [
    "print(classifier.predict(sc.transform([[5.761144646,0.750072789,17.40051971,137.5378463,21.40644822,19.86246667,22.00249276,70.98998425,70.56735688\n",
    "]])))"
   ]
  },
  {
   "cell_type": "code",
   "execution_count": 13,
   "id": "3c7e65fa",
   "metadata": {},
   "outputs": [
    {
     "name": "stdout",
     "output_type": "stream",
     "text": [
      "['Corn']\n"
     ]
    }
   ],
   "source": [
    "print(classifier.predict(sc.transform([[5.88286223,0.393125882,30.92046619,134.6942429,48.03089229,39.71911966,35.13391183,68.84002917,80.33718029\n",
    "]])))"
   ]
  },
  {
   "cell_type": "code",
   "execution_count": 14,
   "id": "857d771c",
   "metadata": {},
   "outputs": [
    {
     "name": "stdout",
     "output_type": "stream",
     "text": [
      "[[2374    0    0    0    0    0  107    0    0    0]\n",
      " [   0 1863    0    8  638    0    0    6    6    0]\n",
      " [   0    0 2448    0    0    0    0    0    0    0]\n",
      " [   2   60    0 1702   26   22    0  666    0    3]\n",
      " [   0  818    0    1 1709    0    0    2    0    0]\n",
      " [   0    0    0    5    0 2490    0    3    0    0]\n",
      " [  44    0    0    0    0    0 2522    0    0    0]\n",
      " [   0   79    0  454   26   21    0 1891    0    0]\n",
      " [   0   22    0    1    5    0    0    0 2467    0]\n",
      " [   0    0    0    0    0    0    0    0    0 2509]]\n"
     ]
    },
    {
     "data": {
      "text/plain": [
       "0.879"
      ]
     },
     "execution_count": 14,
     "metadata": {},
     "output_type": "execute_result"
    }
   ],
   "source": [
    "from sklearn.metrics import confusion_matrix, accuracy_score\n",
    "cm = confusion_matrix(y_test, y_pred)\n",
    "print(cm)\n",
    "accuracy_score(y_test, y_pred)"
   ]
  },
  {
   "cell_type": "code",
   "execution_count": 15,
   "id": "4e0f28dc",
   "metadata": {},
   "outputs": [
    {
     "name": "stdout",
     "output_type": "stream",
     "text": [
      "[['Carrots' 'Carrots']\n",
      " ['Strawberries' 'Strawberries']\n",
      " ['Rice' 'Rice']\n",
      " ...\n",
      " ['Tomato' 'Tomato']\n",
      " ['Corn' 'Corn']\n",
      " ['Chili' 'Chili']]\n"
     ]
    }
   ],
   "source": [
    "y_train_pred = classifier.predict(X_train)\n",
    "print(np.concatenate((y_pred.reshape(len(y_pred),1), y_test.reshape(len(y_test),1)),1))"
   ]
  },
  {
   "cell_type": "code",
   "execution_count": 16,
   "id": "1df99be0",
   "metadata": {},
   "outputs": [
    {
     "name": "stdout",
     "output_type": "stream",
     "text": [
      "[[2374    0    0    0    0    0  107    0    0    0]\n",
      " [   0 1863    0    8  638    0    0    6    6    0]\n",
      " [   0    0 2448    0    0    0    0    0    0    0]\n",
      " [   2   60    0 1702   26   22    0  666    0    3]\n",
      " [   0  818    0    1 1709    0    0    2    0    0]\n",
      " [   0    0    0    5    0 2490    0    3    0    0]\n",
      " [  44    0    0    0    0    0 2522    0    0    0]\n",
      " [   0   79    0  454   26   21    0 1891    0    0]\n",
      " [   0   22    0    1    5    0    0    0 2467    0]\n",
      " [   0    0    0    0    0    0    0    0    0 2509]]\n"
     ]
    },
    {
     "data": {
      "text/plain": [
       "0.9213066666666667"
      ]
     },
     "execution_count": 16,
     "metadata": {},
     "output_type": "execute_result"
    }
   ],
   "source": [
    "from sklearn.metrics import confusion_matrix, accuracy_score\n",
    "cm = confusion_matrix(y_test, y_pred)\n",
    "print(cm)\n",
    "accuracy_score(y_train,y_train_pred)"
   ]
  },
  {
   "cell_type": "code",
   "execution_count": null,
   "id": "3c8a2a95",
   "metadata": {},
   "outputs": [],
   "source": []
  }
 ],
 "metadata": {
  "kernelspec": {
   "display_name": "Python 3 (ipykernel)",
   "language": "python",
   "name": "python3"
  },
  "language_info": {
   "codemirror_mode": {
    "name": "ipython",
    "version": 3
   },
   "file_extension": ".py",
   "mimetype": "text/x-python",
   "name": "python",
   "nbconvert_exporter": "python",
   "pygments_lexer": "ipython3",
   "version": "3.9.7"
  }
 },
 "nbformat": 4,
 "nbformat_minor": 5
}
